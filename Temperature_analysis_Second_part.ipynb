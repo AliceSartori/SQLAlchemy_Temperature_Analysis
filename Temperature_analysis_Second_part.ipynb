{
 "cells": [
  {
   "cell_type": "code",
   "execution_count": 1,
   "metadata": {},
   "outputs": [],
   "source": [
    "from matplotlib import style\n",
    "style.use('fivethirtyeight')\n",
    "import matplotlib.pyplot as plt"
   ]
  },
  {
   "cell_type": "code",
   "execution_count": 2,
   "metadata": {},
   "outputs": [],
   "source": [
    "import numpy as np\n",
    "import pandas as pd\n",
    "import datetime as dt"
   ]
  },
  {
   "cell_type": "markdown",
   "metadata": {},
   "source": [
    "## Reflect Tables into SQLALchemy ORM"
   ]
  },
  {
   "cell_type": "code",
   "execution_count": 3,
   "metadata": {},
   "outputs": [],
   "source": [
    "# Python SQL toolkit and Object Relational Mapper\n",
    "import sqlalchemy\n",
    "from sqlalchemy.ext.automap import automap_base\n",
    "from sqlalchemy.orm import Session\n",
    "from sqlalchemy import create_engine, func, desc"
   ]
  },
  {
   "cell_type": "code",
   "execution_count": 4,
   "metadata": {},
   "outputs": [],
   "source": [
    "# create engine to hawaii.sqlite\n",
    "engine = create_engine(\"sqlite:///Resources/hawaii.sqlite\", echo=False)"
   ]
  },
  {
   "cell_type": "code",
   "execution_count": 5,
   "metadata": {},
   "outputs": [
    {
     "data": {
      "text/plain": [
       "['measurement', 'station']"
      ]
     },
     "execution_count": 5,
     "metadata": {},
     "output_type": "execute_result"
    }
   ],
   "source": [
    "# Declare a Base using `automap_base()`\n",
    "Base = automap_base()\n",
    "\n",
    "# Use the Base class to reflect the database tables. sql will read all tables and figure out all the classes.\n",
    "Base.prepare(engine, reflect=True)\n",
    "\n",
    "# Print all of the classes mapped to the Base. There are 2 classes\n",
    "Base.classes.keys()"
   ]
  },
  {
   "cell_type": "code",
   "execution_count": 6,
   "metadata": {},
   "outputs": [],
   "source": [
    "# Map Measurement class and Station class\n",
    "Measurement = Base.classes.measurement\n",
    "Station = Base.classes.station"
   ]
  },
  {
   "cell_type": "code",
   "execution_count": 7,
   "metadata": {},
   "outputs": [],
   "source": [
    "# Create our session (link) from Python to the DB\n",
    "session = Session(engine)"
   ]
  },
  {
   "cell_type": "markdown",
   "metadata": {},
   "source": [
    "## Bonus Challenge Assignment: Temperature Analysis II"
   ]
  },
  {
   "cell_type": "code",
   "execution_count": 8,
   "metadata": {},
   "outputs": [
    {
     "name": "stdout",
     "output_type": "stream",
     "text": [
      "[(62.0, 69.57142857142857, 74.0)]\n"
     ]
    }
   ],
   "source": [
    "# This function called `calc_temps` will accept start date and end date in the format '%Y-%m-%d' \n",
    "# and return the minimum, maximum, and average temperatures for that range of dates\n",
    "def calc_temps(start_date, end_date):\n",
    "    \"\"\"TMIN, TAVG, and TMAX for a list of dates.\n",
    "    Args:\n",
    "        start_date (string): A date string in the format %Y-%m-%d\n",
    "        end_date (string): A date string in the format %Y-%m-%d\n",
    "    Returns:\n",
    "        TMIN, TAVE, and TMAX\n",
    "    \"\"\"\n",
    "    return session.query(func.min(Measurement.tobs), func.avg(Measurement.tobs), func.max(Measurement.tobs)).filter(Measurement.date >= start_date).filter(Measurement.date <= end_date).all()\n",
    "# For example\n",
    "print(calc_temps('2012-02-28', '2012-03-05'))"
   ]
  },
  {
   "cell_type": "code",
   "execution_count": 9,
   "metadata": {},
   "outputs": [
    {
     "data": {
      "text/plain": [
       "('2017-08-23')"
      ]
     },
     "execution_count": 9,
     "metadata": {},
     "output_type": "execute_result"
    }
   ],
   "source": [
    "# Find the most recent date in the data set.\n",
    "Most_recent_date=session.query(Measurement.date).order_by(Measurement.date.desc()).first()\n",
    "Most_recent_date"
   ]
  },
  {
   "cell_type": "code",
   "execution_count": 10,
   "metadata": {},
   "outputs": [
    {
     "data": {
      "text/plain": [
       "('2010-01-01')"
      ]
     },
     "execution_count": 10,
     "metadata": {},
     "output_type": "execute_result"
    }
   ],
   "source": [
    "# Find the oldest date in the data set.\n",
    "first_date=session.query(Measurement.date).order_by(Measurement.date).first()\n",
    "first_date"
   ]
  },
  {
   "cell_type": "code",
   "execution_count": 11,
   "metadata": {},
   "outputs": [
    {
     "data": {
      "text/plain": [
       "[(72.0, 79.15625, 83.0)]"
      ]
     },
     "execution_count": 11,
     "metadata": {},
     "output_type": "execute_result"
    }
   ],
   "source": [
    "# Use the function `calc_temps` to calculate the tmin, tavg, and tmax (2017) in the data set\n",
    "temperature_sample=calc_temps('2017-08-01', '2017-08-08')\n",
    "temperature_sample"
   ]
  },
  {
   "cell_type": "code",
   "execution_count": 12,
   "metadata": {},
   "outputs": [
    {
     "data": {
      "text/html": [
       "<div>\n",
       "<style scoped>\n",
       "    .dataframe tbody tr th:only-of-type {\n",
       "        vertical-align: middle;\n",
       "    }\n",
       "\n",
       "    .dataframe tbody tr th {\n",
       "        vertical-align: top;\n",
       "    }\n",
       "\n",
       "    .dataframe thead th {\n",
       "        text-align: right;\n",
       "    }\n",
       "</style>\n",
       "<table border=\"1\" class=\"dataframe\">\n",
       "  <thead>\n",
       "    <tr style=\"text-align: right;\">\n",
       "      <th></th>\n",
       "      <th>Temp_Min</th>\n",
       "      <th>Temp_Avg</th>\n",
       "      <th>Temp_Max</th>\n",
       "    </tr>\n",
       "  </thead>\n",
       "  <tbody>\n",
       "    <tr>\n",
       "      <th>0</th>\n",
       "      <td>72.0</td>\n",
       "      <td>79.15625</td>\n",
       "      <td>83.0</td>\n",
       "    </tr>\n",
       "  </tbody>\n",
       "</table>\n",
       "</div>"
      ],
      "text/plain": [
       "   Temp_Min  Temp_Avg  Temp_Max\n",
       "0      72.0  79.15625      83.0"
      ]
     },
     "execution_count": 12,
     "metadata": {},
     "output_type": "execute_result"
    }
   ],
   "source": [
    "temperature_sample_df=pd.DataFrame(temperature_sample, columns=['Temp_Min','Temp_Avg', 'Temp_Max'])\n",
    "temperature_sample_df"
   ]
  },
  {
   "cell_type": "code",
   "execution_count": 13,
   "metadata": {},
   "outputs": [
    {
     "data": {
      "text/plain": [
       "0    79.15625\n",
       "Name: Temp_Avg, dtype: float64"
      ]
     },
     "execution_count": 13,
     "metadata": {},
     "output_type": "execute_result"
    }
   ],
   "source": [
    "avg_temp = temperature_sample_df.Temp_Avg\n",
    "avg_temp "
   ]
  },
  {
   "cell_type": "code",
   "execution_count": 14,
   "metadata": {},
   "outputs": [
    {
     "data": {
      "text/plain": [
       "11.0"
      ]
     },
     "execution_count": 14,
     "metadata": {},
     "output_type": "execute_result"
    }
   ],
   "source": [
    "min_max_temp = temperature_sample_df.Temp_Max - temperature_sample_df.Temp_Min\n",
    "min_max_temp=min_max_temp.values[0]\n",
    "min_max_temp"
   ]
  },
  {
   "cell_type": "code",
   "execution_count": 15,
   "metadata": {},
   "outputs": [
    {
     "data": {
      "image/png": "[encoded data removed]",
      "text/plain": [
       "<Figure size 432x576 with 1 Axes>"
      ]
     },
     "metadata": {
      "needs_background": "light"
     },
     "output_type": "display_data"
    }
   ],
   "source": [
    "# Plot the results from your previous query as a bar chart. \n",
    "# Use \"Trip Avg Temp\" as your Title\n",
    "# Use the average temperature for bar height (y value)\n",
    "# Use the peak-to-peak (tmax-tmin) value as the y error bar (yerr)\n",
    "\n",
    "avg_temp.plot(kind = 'bar', yerr = min_max_temp, figsize=(6,8), alpha=0.5, color='coral')\n",
    "plt.title(\"Trip Avg Temp\", fontsize=20)\n",
    "plt.ylabel(\"Temp (F)\")\n",
    "plt.xticks([])\n",
    "plt.grid()\n",
    "plt.savefig('Trip Average Temp')"
   ]
  },
  {
   "cell_type": "code",
   "execution_count": 16,
   "metadata": {},
   "outputs": [],
   "source": [
    "#choose the date of this year, now look for hystorical data in the dataset \n",
    "trip_start = dt.date(2016,8,1)\n",
    "trip_end = dt.date(2016,8,8)"
   ]
  },
  {
   "cell_type": "code",
   "execution_count": 17,
   "metadata": {},
   "outputs": [
    {
     "data": {
      "text/plain": [
       "'2016-08-01'"
      ]
     },
     "execution_count": 17,
     "metadata": {},
     "output_type": "execute_result"
    }
   ],
   "source": [
    "trip=trip_start.strftime('%Y-%m-%d')\n",
    "trip"
   ]
  },
  {
   "cell_type": "code",
   "execution_count": 18,
   "metadata": {},
   "outputs": [
    {
     "data": {
      "text/plain": [
       "'2016-08-08'"
      ]
     },
     "execution_count": 18,
     "metadata": {},
     "output_type": "execute_result"
    }
   ],
   "source": [
    "trip_ending= trip_end.strftime('%Y-%m-%d')\n",
    "trip_ending"
   ]
  },
  {
   "cell_type": "markdown",
   "metadata": {},
   "source": [
    "### Daily Rainfall Average"
   ]
  },
  {
   "cell_type": "code",
   "execution_count": 19,
   "metadata": {},
   "outputs": [
    {
     "data": {
      "text/plain": [
       "[('USC00516128', 2.44),\n",
       " ('USC00519281', 2.49),\n",
       " ('USC00514830', 1.03),\n",
       " ('USC00513117', 1.24),\n",
       " ('USC00519523', 0.76),\n",
       " ('USC00519397', 0.49),\n",
       " ('USC00517948', 0.18)]"
      ]
     },
     "execution_count": 19,
     "metadata": {},
     "output_type": "execute_result"
    }
   ],
   "source": [
    "# Calculate the total amount of rainfall per weather station for your trip dates using the previous year's \n",
    "# matching dates, sorted in the descending orderd\n",
    "\n",
    "session.query(Measurement.station,func.sum(Measurement.prcp)).filter(Measurement.date > trip).filter(\n",
    "    Measurement.date < trip_ending).group_by(Measurement.station).order_by(Measurement.prcp.desc()).all()\n"
   ]
  },
  {
   "cell_type": "code",
   "execution_count": 20,
   "metadata": {},
   "outputs": [
    {
     "name": "stdout",
     "output_type": "stream",
     "text": [
      "USC00519397 USC00519397\n",
      "USC00519397 USC00519397\n",
      "USC00519397 USC00519397\n",
      "USC00519397 USC00519397\n",
      "USC00519397 USC00519397\n",
      "USC00519397 USC00519397\n",
      "USC00519397 USC00519397\n",
      "USC00519397 USC00519397\n",
      "USC00519397 USC00519397\n",
      "USC00519397 USC00519397\n",
      "USC00519397 USC00519397\n",
      "USC00519397 USC00519397\n",
      "USC00519397 USC00519397\n",
      "USC00519397 USC00519397\n",
      "USC00519397 USC00519397\n",
      "USC00519397 USC00519397\n",
      "USC00519397 USC00519397\n",
      "USC00519397 USC00519397\n",
      "USC00519397 USC00519397\n",
      "USC00519397 USC00519397\n",
      "USC00519397 USC00519397\n",
      "USC00519397 USC00519397\n",
      "USC00519397 USC00519397\n",
      "USC00519397 USC00519397\n",
      "USC00519397 USC00519397\n",
      "USC00519397 USC00519397\n",
      "USC00519397 USC00519397\n",
      "USC00519397 USC00519397\n",
      "USC00519397 USC00519397\n",
      "USC00519397 USC00519397\n",
      "USC00519397 USC00519397\n",
      "USC00519397 USC00519397\n",
      "USC00519397 USC00519397\n",
      "USC00519397 USC00519397\n",
      "USC00519397 USC00519397\n",
      "USC00519397 USC00519397\n",
      "USC00519397 USC00519397\n",
      "USC00519397 USC00519397\n",
      "USC00519397 USC00519397\n",
      "USC00519397 USC00519397\n",
      "USC00519397 USC00519397\n",
      "USC00519397 USC00519397\n",
      "USC00519397 USC00519397\n",
      "USC00519397 USC00519397\n",
      "USC00519397 USC00519397\n",
      "USC00519397 USC00519397\n",
      "USC00519397 USC00519397\n",
      "USC00519397 USC00519397\n",
      "USC00519397 USC00519397\n",
      "USC00519397 USC00519397\n",
      "USC00519397 USC00519397\n",
      "USC00519397 USC00519397\n",
      "USC00519397 USC00519397\n",
      "USC00519397 USC00519397\n",
      "USC00519397 USC00519397\n",
      "USC00519397 USC00519397\n",
      "USC00519397 USC00519397\n",
      "USC00519397 USC00519397\n",
      "USC00519397 USC00519397\n",
      "USC00519397 USC00519397\n",
      "USC00519397 USC00519397\n",
      "USC00519397 USC00519397\n",
      "USC00519397 USC00519397\n",
      "USC00519397 USC00519397\n",
      "USC00519397 USC00519397\n",
      "USC00519397 USC00519397\n",
      "USC00519397 USC00519397\n",
      "USC00519397 USC00519397\n",
      "USC00519397 USC00519397\n",
      "USC00519397 USC00519397\n",
      "USC00519397 USC00519397\n",
      "USC00519397 USC00519397\n",
      "USC00519397 USC00519397\n",
      "USC00519397 USC00519397\n",
      "USC00519397 USC00519397\n",
      "USC00519397 USC00519397\n",
      "USC00519397 USC00519397\n",
      "USC00519397 USC00519397\n",
      "USC00519397 USC00519397\n",
      "USC00519397 USC00519397\n",
      "USC00519397 USC00519397\n",
      "USC00519397 USC00519397\n",
      "USC00519397 USC00519397\n",
      "USC00519397 USC00519397\n",
      "USC00519397 USC00519397\n",
      "USC00519397 USC00519397\n",
      "USC00519397 USC00519397\n",
      "USC00519397 USC00519397\n",
      "USC00519397 USC00519397\n",
      "USC00519397 USC00519397\n",
      "USC00519397 USC00519397\n",
      "USC00519397 USC00519397\n",
      "USC00519397 USC00519397\n",
      "USC00519397 USC00519397\n",
      "USC00519397 USC00519397\n",
      "USC00519397 USC00519397\n",
      "USC00519397 USC00519397\n",
      "USC00519397 USC00519397\n",
      "USC00519397 USC00519397\n",
      "USC00519397 USC00519397\n",
      "USC00519397 USC00519397\n",
      "USC00519397 USC00519397\n",
      "USC00519397 USC00519397\n",
      "USC00519397 USC00519397\n",
      "USC00519397 USC00519397\n",
      "USC00519397 USC00519397\n",
      "USC00519397 USC00519397\n",
      "USC00519397 USC00519397\n",
      "USC00519397 USC00519397\n",
      "USC00519397 USC00519397\n",
      "USC00519397 USC00519397\n",
      "USC00519397 USC00519397\n",
      "USC00519397 USC00519397\n",
      "USC00519397 USC00519397\n",
      "USC00519397 USC00519397\n",
      "USC00519397 USC00519397\n",
      "USC00519397 USC00519397\n",
      "USC00519397 USC00519397\n",
      "USC00519397 USC00519397\n",
      "USC00519397 USC00519397\n",
      "USC00519397 USC00519397\n",
      "USC00519397 USC00519397\n",
      "USC00519397 USC00519397\n",
      "USC00519397 USC00519397\n",
      "USC00519397 USC00519397\n",
      "USC00519397 USC00519397\n",
      "USC00519397 USC00519397\n",
      "USC00519397 USC00519397\n",
      "USC00519397 USC00519397\n",
      "USC00519397 USC00519397\n",
      "USC00519397 USC00519397\n",
      "USC00519397 USC00519397\n",
      "USC00519397 USC00519397\n",
      "USC00519397 USC00519397\n",
      "USC00519397 USC00519397\n",
      "USC00519397 USC00519397\n",
      "USC00519397 USC00519397\n",
      "USC00519397 USC00519397\n",
      "USC00519397 USC00519397\n",
      "USC00519397 USC00519397\n",
      "USC00519397 USC00519397\n",
      "USC00519397 USC00519397\n",
      "USC00519397 USC00519397\n",
      "USC00519397 USC00519397\n",
      "USC00519397 USC00519397\n",
      "USC00519397 USC00519397\n",
      "USC00519397 USC00519397\n",
      "USC00519397 USC00519397\n",
      "USC00519397 USC00519397\n",
      "USC00519397 USC00519397\n",
      "USC00519397 USC00519397\n",
      "USC00519397 USC00519397\n",
      "USC00519397 USC00519397\n",
      "USC00519397 USC00519397\n",
      "USC00519397 USC00519397\n",
      "USC00519397 USC00519397\n",
      "USC00519397 USC00519397\n",
      "USC00519397 USC00519397\n",
      "USC00519397 USC00519397\n",
      "USC00519397 USC00519397\n",
      "USC00519397 USC00519397\n",
      "USC00519397 USC00519397\n",
      "USC00519397 USC00519397\n",
      "USC00519397 USC00519397\n",
      "USC00519397 USC00519397\n",
      "USC00519397 USC00519397\n",
      "USC00519397 USC00519397\n",
      "USC00519397 USC00519397\n",
      "USC00519397 USC00519397\n",
      "USC00519397 USC00519397\n",
      "USC00519397 USC00519397\n",
      "USC00519397 USC00519397\n",
      "USC00519397 USC00519397\n",
      "USC00519397 USC00519397\n",
      "USC00519397 USC00519397\n",
      "USC00519397 USC00519397\n",
      "USC00519397 USC00519397\n",
      "USC00519397 USC00519397\n",
      "USC00519397 USC00519397\n",
      "USC00519397 USC00519397\n",
      "USC00519397 USC00519397\n",
      "USC00519397 USC00519397\n",
      "USC00519397 USC00519397\n",
      "USC00519397 USC00519397\n",
      "USC00519397 USC00519397\n",
      "USC00519397 USC00519397\n",
      "USC00519397 USC00519397\n",
      "USC00519397 USC00519397\n",
      "USC00519397 USC00519397\n",
      "USC00519397 USC00519397\n",
      "USC00519397 USC00519397\n",
      "USC00519397 USC00519397\n",
      "USC00519397 USC00519397\n",
      "USC00519397 USC00519397\n",
      "USC00519397 USC00519397\n",
      "USC00519397 USC00519397\n",
      "USC00519397 USC00519397\n",
      "USC00519397 USC00519397\n",
      "USC00519397 USC00519397\n",
      "USC00519397 USC00519397\n",
      "USC00519397 USC00519397\n",
      "USC00519397 USC00519397\n",
      "USC00519397 USC00519397\n",
      "USC00519397 USC00519397\n",
      "USC00519397 USC00519397\n",
      "USC00519397 USC00519397\n",
      "USC00519397 USC00519397\n",
      "USC00519397 USC00519397\n",
      "USC00519397 USC00519397\n",
      "USC00519397 USC00519397\n",
      "USC00519397 USC00519397\n",
      "USC00519397 USC00519397\n",
      "USC00519397 USC00519397\n",
      "USC00519397 USC00519397\n",
      "USC00519397 USC00519397\n",
      "USC00519397 USC00519397\n",
      "USC00519397 USC00519397\n",
      "USC00519397 USC00519397\n",
      "USC00519397 USC00519397\n",
      "USC00519397 USC00519397\n",
      "USC00519397 USC00519397\n",
      "USC00519397 USC00519397\n",
      "USC00519397 USC00519397\n",
      "USC00519397 USC00519397\n",
      "USC00519397 USC00519397\n",
      "USC00519397 USC00519397\n",
      "USC00519397 USC00519397\n",
      "USC00519397 USC00519397\n",
      "USC00519397 USC00519397\n",
      "USC00519397 USC00519397\n",
      "USC00519397 USC00519397\n",
      "USC00519397 USC00519397\n",
      "USC00519397 USC00519397\n",
      "USC00519397 USC00519397\n",
      "USC00519397 USC00519397\n",
      "USC00519397 USC00519397\n",
      "USC00519397 USC00519397\n",
      "USC00519397 USC00519397\n",
      "USC00519397 USC00519397\n",
      "USC00519397 USC00519397\n",
      "USC00519397 USC00519397\n",
      "USC00519397 USC00519397\n",
      "USC00519397 USC00519397\n",
      "USC00519397 USC00519397\n",
      "USC00519397 USC00519397\n",
      "USC00519397 USC00519397\n",
      "USC00519397 USC00519397\n",
      "USC00519397 USC00519397\n",
      "USC00519397 USC00519397\n",
      "USC00519397 USC00519397\n",
      "USC00519397 USC00519397\n",
      "USC00519397 USC00519397\n",
      "USC00519397 USC00519397\n",
      "USC00519397 USC00519397\n",
      "USC00519397 USC00519397\n",
      "USC00519397 USC00519397\n",
      "USC00519397 USC00519397\n",
      "USC00519397 USC00519397\n",
      "USC00519397 USC00519397\n",
      "USC00519397 USC00519397\n",
      "USC00519397 USC00519397\n",
      "USC00519397 USC00519397\n",
      "USC00519397 USC00519397\n",
      "USC00519397 USC00519397\n",
      "USC00519397 USC00519397\n",
      "USC00519397 USC00519397\n",
      "USC00519397 USC00519397\n",
      "USC00519397 USC00519397\n",
      "USC00519397 USC00519397\n",
      "USC00519397 USC00519397\n",
      "USC00519397 USC00519397\n",
      "USC00519397 USC00519397\n",
      "USC00519397 USC00519397\n",
      "USC00519397 USC00519397\n",
      "USC00519397 USC00519397\n",
      "USC00519397 USC00519397\n",
      "USC00519397 USC00519397\n",
      "USC00519397 USC00519397\n",
      "USC00519397 USC00519397\n",
      "USC00519397 USC00519397\n",
      "USC00519397 USC00519397\n",
      "USC00519397 USC00519397\n",
      "USC00519397 USC00519397\n",
      "USC00519397 USC00519397\n",
      "USC00519397 USC00519397\n",
      "USC00519397 USC00519397\n",
      "USC00519397 USC00519397\n",
      "USC00519397 USC00519397\n",
      "USC00519397 USC00519397\n",
      "USC00519397 USC00519397\n",
      "USC00519397 USC00519397\n",
      "USC00519397 USC00519397\n",
      "USC00519397 USC00519397\n",
      "USC00519397 USC00519397\n",
      "USC00519397 USC00519397\n",
      "USC00519397 USC00519397\n",
      "USC00519397 USC00519397\n",
      "USC00519397 USC00519397\n",
      "USC00519397 USC00519397\n",
      "USC00519397 USC00519397\n",
      "USC00519397 USC00519397\n",
      "USC00519397 USC00519397\n",
      "USC00519397 USC00519397\n",
      "USC00519397 USC00519397\n",
      "USC00519397 USC00519397\n",
      "USC00519397 USC00519397\n",
      "USC00519397 USC00519397\n",
      "USC00519397 USC00519397\n",
      "USC00519397 USC00519397\n",
      "USC00519397 USC00519397\n",
      "USC00519397 USC00519397\n",
      "USC00519397 USC00519397\n",
      "USC00519397 USC00519397\n",
      "USC00519397 USC00519397\n",
      "USC00519397 USC00519397\n",
      "USC00519397 USC00519397\n",
      "USC00519397 USC00519397\n",
      "USC00519397 USC00519397\n",
      "USC00519397 USC00519397\n",
      "USC00519397 USC00519397\n",
      "USC00519397 USC00519397\n",
      "USC00519397 USC00519397\n",
      "USC00519397 USC00519397\n",
      "USC00519397 USC00519397\n",
      "USC00519397 USC00519397\n",
      "USC00519397 USC00519397\n",
      "USC00519397 USC00519397\n",
      "USC00519397 USC00519397\n",
      "USC00519397 USC00519397\n",
      "USC00519397 USC00519397\n",
      "USC00519397 USC00519397\n",
      "USC00519397 USC00519397\n",
      "USC00519397 USC00519397\n",
      "USC00519397 USC00519397\n",
      "USC00519397 USC00519397\n",
      "USC00519397 USC00519397\n",
      "USC00519397 USC00519397\n",
      "USC00519397 USC00519397\n",
      "USC00519397 USC00519397\n",
      "USC00519397 USC00519397\n",
      "USC00519397 USC00519397\n",
      "USC00519397 USC00519397\n",
      "USC00519397 USC00519397\n",
      "USC00519397 USC00519397\n",
      "USC00519397 USC00519397\n",
      "USC00519397 USC00519397\n",
      "USC00519397 USC00519397\n",
      "USC00519397 USC00519397\n",
      "USC00519397 USC00519397\n",
      "USC00519397 USC00519397\n",
      "USC00519397 USC00519397\n",
      "USC00519397 USC00519397\n",
      "USC00519397 USC00519397\n",
      "USC00519397 USC00519397\n",
      "USC00519397 USC00519397\n",
      "USC00519397 USC00519397\n",
      "USC00519397 USC00519397\n",
      "USC00519397 USC00519397\n",
      "USC00519397 USC00519397\n",
      "USC00519397 USC00519397\n",
      "USC00519397 USC00519397\n",
      "USC00519397 USC00519397\n",
      "USC00519397 USC00519397\n",
      "USC00519397 USC00519397\n",
      "USC00519397 USC00519397\n",
      "USC00519397 USC00519397\n",
      "USC00519397 USC00519397\n",
      "USC00519397 USC00519397\n",
      "USC00519397 USC00519397\n",
      "USC00519397 USC00519397\n",
      "USC00519397 USC00519397\n",
      "USC00519397 USC00519397\n",
      "USC00519397 USC00519397\n",
      "USC00519397 USC00519397\n",
      "USC00519397 USC00519397\n",
      "USC00519397 USC00519397\n",
      "USC00519397 USC00519397\n",
      "USC00519397 USC00519397\n",
      "USC00519397 USC00519397\n",
      "USC00519397 USC00519397\n",
      "USC00519397 USC00519397\n",
      "USC00519397 USC00519397\n",
      "USC00519397 USC00519397\n",
      "USC00519397 USC00519397\n",
      "USC00519397 USC00519397\n",
      "USC00519397 USC00519397\n",
      "USC00519397 USC00519397\n",
      "USC00519397 USC00519397\n",
      "USC00519397 USC00519397\n",
      "USC00519397 USC00519397\n",
      "USC00519397 USC00519397\n",
      "USC00519397 USC00519397\n",
      "USC00519397 USC00519397\n",
      "USC00519397 USC00519397\n",
      "USC00519397 USC00519397\n",
      "USC00519397 USC00519397\n",
      "USC00519397 USC00519397\n",
      "USC00519397 USC00519397\n",
      "USC00519397 USC00519397\n",
      "USC00519397 USC00519397\n",
      "USC00519397 USC00519397\n",
      "USC00519397 USC00519397\n",
      "USC00519397 USC00519397\n",
      "USC00519397 USC00519397\n",
      "USC00519397 USC00519397\n",
      "USC00519397 USC00519397\n",
      "USC00519397 USC00519397\n",
      "USC00519397 USC00519397\n",
      "USC00519397 USC00519397\n",
      "USC00519397 USC00519397\n",
      "USC00519397 USC00519397\n",
      "USC00519397 USC00519397\n",
      "USC00519397 USC00519397\n",
      "USC00519397 USC00519397\n",
      "USC00519397 USC00519397\n",
      "USC00519397 USC00519397\n",
      "USC00519397 USC00519397\n",
      "USC00519397 USC00519397\n",
      "USC00519397 USC00519397\n",
      "USC00519397 USC00519397\n",
      "USC00519397 USC00519397\n",
      "USC00519397 USC00519397\n",
      "USC00519397 USC00519397\n",
      "USC00519397 USC00519397\n",
      "USC00519397 USC00519397\n",
      "USC00519397 USC00519397\n",
      "USC00519397 USC00519397\n",
      "USC00519397 USC00519397\n",
      "USC00519397 USC00519397\n",
      "USC00519397 USC00519397\n",
      "USC00519397 USC00519397\n",
      "USC00519397 USC00519397\n",
      "USC00519397 USC00519397\n",
      "USC00519397 USC00519397\n",
      "USC00519397 USC00519397\n",
      "USC00519397 USC00519397\n",
      "USC00519397 USC00519397\n",
      "USC00519397 USC00519397\n",
      "USC00519397 USC00519397\n",
      "USC00519397 USC00519397\n",
      "USC00519397 USC00519397\n",
      "USC00519397 USC00519397\n",
      "USC00519397 USC00519397\n",
      "USC00519397 USC00519397\n",
      "USC00519397 USC00519397\n",
      "USC00519397 USC00519397\n",
      "USC00519397 USC00519397\n",
      "USC00519397 USC00519397\n",
      "USC00519397 USC00519397\n",
      "USC00519397 USC00519397\n",
      "USC00519397 USC00519397\n",
      "USC00519397 USC00519397\n",
      "USC00519397 USC00519397\n",
      "USC00519397 USC00519397\n",
      "USC00519397 USC00519397\n",
      "USC00519397 USC00519397\n",
      "USC00519397 USC00519397\n",
      "USC00519397 USC00519397\n",
      "USC00519397 USC00519397\n",
      "USC00519397 USC00519397\n",
      "USC00519397 USC00519397\n",
      "USC00519397 USC00519397\n",
      "USC00519397 USC00519397\n",
      "USC00519397 USC00519397\n",
      "USC00519397 USC00519397\n",
      "USC00519397 USC00519397\n",
      "USC00519397 USC00519397\n",
      "USC00519397 USC00519397\n",
      "USC00519397 USC00519397\n",
      "USC00519397 USC00519397\n",
      "USC00519397 USC00519397\n",
      "USC00519397 USC00519397\n",
      "USC00519397 USC00519397\n",
      "USC00519397 USC00519397\n",
      "USC00519397 USC00519397\n",
      "USC00519397 USC00519397\n",
      "USC00519397 USC00519397\n",
      "USC00519397 USC00519397\n",
      "USC00519397 USC00519397\n",
      "USC00519397 USC00519397\n",
      "USC00519397 USC00519397\n",
      "USC00519397 USC00519397\n",
      "USC00519397 USC00519397\n",
      "USC00519397 USC00519397\n",
      "USC00519397 USC00519397\n",
      "USC00519397 USC00519397\n",
      "USC00519397 USC00519397\n",
      "USC00519397 USC00519397\n",
      "USC00519397 USC00519397\n",
      "USC00519397 USC00519397\n",
      "USC00519397 USC00519397\n",
      "USC00519397 USC00519397\n",
      "USC00519397 USC00519397\n",
      "USC00519397 USC00519397\n",
      "USC00519397 USC00519397\n",
      "USC00519397 USC00519397\n",
      "USC00519397 USC00519397\n",
      "USC00519397 USC00519397\n",
      "USC00519397 USC00519397\n",
      "USC00519397 USC00519397\n"
     ]
    }
   ],
   "source": [
    "# Sort this in descending order by precipitation amount and list the station, name, latitude, longitude, and elevation\n",
    "same_station = session.query(Measurement, Station).filter(Measurement.station == Station.station).limit(500).all()\n",
    "\n",
    "#inner join on the station column. cross join and then filtering in SQLalchemy\n",
    "\n",
    "for record in same_station:\n",
    "    (measurement, station) = record\n",
    "    print(measurement.station,station.station)"
   ]
  },
  {
   "cell_type": "code",
   "execution_count": 21,
   "metadata": {},
   "outputs": [
    {
     "data": {
      "text/plain": [
       "[(62.0, 69.15384615384616, 77.0)]"
      ]
     },
     "execution_count": 21,
     "metadata": {},
     "output_type": "execute_result"
    }
   ],
   "source": [
    "# Use this function to calculate the daily normals \n",
    "# (i.e. the averages for tmin, tmax, and tavg for all historic data matching a specific month and day)\n",
    "\n",
    "def daily_normals(date):\n",
    "    \"\"\"Daily Normals.\n",
    "    \n",
    "    Args:\n",
    "        date (str): A date string in the format '%m-%d'\n",
    "        \n",
    "    Returns:\n",
    "        A list of tuples containing the daily normals, tmin, tavg, and tmax\n",
    "    \n",
    "    \"\"\"\n",
    "    \n",
    "    sel = [func.min(Measurement.tobs), func.avg(Measurement.tobs), func.max(Measurement.tobs)]\n",
    "    \n",
    "    return session.query(*sel).filter(func.strftime(\"%m-%d\", Measurement.date) == date).all()\n",
    "\n",
    "# For example\n",
    "daily_normals(\"01-01\")"
   ]
  },
  {
   "cell_type": "code",
   "execution_count": 22,
   "metadata": {},
   "outputs": [],
   "source": [
    "start_date = '2016-08-01'\n",
    "end_date = '2016-08-08'"
   ]
  },
  {
   "cell_type": "code",
   "execution_count": 23,
   "metadata": {},
   "outputs": [
    {
     "data": {
      "text/plain": [
       "DatetimeIndex(['2016-08-01', '2016-08-02', '2016-08-03', '2016-08-04',\n",
       "               '2016-08-05', '2016-08-06', '2016-08-07', '2016-08-08'],\n",
       "              dtype='datetime64[ns]', freq='D')"
      ]
     },
     "execution_count": 23,
     "metadata": {},
     "output_type": "execute_result"
    }
   ],
   "source": [
    "# Use the start and end date to create a range of dates\n",
    "date_time_range=pd.date_range(start_date, end_date)\n",
    "date_time_range"
   ]
  },
  {
   "cell_type": "code",
   "execution_count": 24,
   "metadata": {},
   "outputs": [],
   "source": [
    "date_list=date_time_range.strftime('%m-%d')"
   ]
  },
  {
   "cell_type": "code",
   "execution_count": 25,
   "metadata": {},
   "outputs": [
    {
     "data": {
      "text/plain": [
       "['08-01', '08-02', '08-03', '08-04', '08-05', '08-06', '08-07', '08-08']"
      ]
     },
     "execution_count": 25,
     "metadata": {},
     "output_type": "execute_result"
    }
   ],
   "source": [
    "# Strip off the year and save a list of strings in the format %m-%d\n",
    "list_dates=date_list.to_list()\n",
    "list_dates"
   ]
  },
  {
   "cell_type": "code",
   "execution_count": 26,
   "metadata": {},
   "outputs": [
    {
     "data": {
      "text/plain": [
       "[(67.0, 75.54, 83.0),\n",
       " (68.0, 75.60377358490567, 84.0),\n",
       " (70.0, 76.61111111111111, 85.0),\n",
       " (69.0, 76.71153846153847, 84.0),\n",
       " (69.0, 76.14814814814815, 82.0),\n",
       " (67.0, 76.25, 83.0),\n",
       " (71.0, 77.15686274509804, 83.0),\n",
       " (68.0, 76.5576923076923, 83.0)]"
      ]
     },
     "execution_count": 26,
     "metadata": {},
     "output_type": "execute_result"
    }
   ],
   "source": [
    "# calculate the daily normals for your trip\n",
    "# push each tuple of calculations into a list called `normals`\n",
    "# Use the `daily_normals` function to calculate the normals for each date string and append the results to a list called `normals`.\n",
    "normals = []\n",
    "\n",
    "for record in list_dates:\n",
    "#     print(daily_normals(record))\n",
    "#     print(*daily_normals(record))\n",
    "#     result = [[x[0], x[1], x[2]] for x in daily_normals(record)][0]\n",
    "#     print(result)\n",
    "    normals.append(*daily_normals(record))\n",
    "#     normals.append(result)\n",
    "\n",
    "#list to be called normals\n",
    "normals"
   ]
  },
  {
   "cell_type": "code",
   "execution_count": 27,
   "metadata": {},
   "outputs": [
    {
     "data": {
      "text/html": [
       "<div>\n",
       "<style scoped>\n",
       "    .dataframe tbody tr th:only-of-type {\n",
       "        vertical-align: middle;\n",
       "    }\n",
       "\n",
       "    .dataframe tbody tr th {\n",
       "        vertical-align: top;\n",
       "    }\n",
       "\n",
       "    .dataframe thead th {\n",
       "        text-align: right;\n",
       "    }\n",
       "</style>\n",
       "<table border=\"1\" class=\"dataframe\">\n",
       "  <thead>\n",
       "    <tr style=\"text-align: right;\">\n",
       "      <th></th>\n",
       "      <th>Tmin</th>\n",
       "      <th>Tavg</th>\n",
       "      <th>Tmax</th>\n",
       "    </tr>\n",
       "    <tr>\n",
       "      <th>Date</th>\n",
       "      <th></th>\n",
       "      <th></th>\n",
       "      <th></th>\n",
       "    </tr>\n",
       "  </thead>\n",
       "  <tbody>\n",
       "    <tr>\n",
       "      <th>08-01</th>\n",
       "      <td>67.0</td>\n",
       "      <td>75.540000</td>\n",
       "      <td>83.0</td>\n",
       "    </tr>\n",
       "    <tr>\n",
       "      <th>08-02</th>\n",
       "      <td>68.0</td>\n",
       "      <td>75.603774</td>\n",
       "      <td>84.0</td>\n",
       "    </tr>\n",
       "    <tr>\n",
       "      <th>08-03</th>\n",
       "      <td>70.0</td>\n",
       "      <td>76.611111</td>\n",
       "      <td>85.0</td>\n",
       "    </tr>\n",
       "    <tr>\n",
       "      <th>08-04</th>\n",
       "      <td>69.0</td>\n",
       "      <td>76.711538</td>\n",
       "      <td>84.0</td>\n",
       "    </tr>\n",
       "    <tr>\n",
       "      <th>08-05</th>\n",
       "      <td>69.0</td>\n",
       "      <td>76.148148</td>\n",
       "      <td>82.0</td>\n",
       "    </tr>\n",
       "    <tr>\n",
       "      <th>08-06</th>\n",
       "      <td>67.0</td>\n",
       "      <td>76.250000</td>\n",
       "      <td>83.0</td>\n",
       "    </tr>\n",
       "    <tr>\n",
       "      <th>08-07</th>\n",
       "      <td>71.0</td>\n",
       "      <td>77.156863</td>\n",
       "      <td>83.0</td>\n",
       "    </tr>\n",
       "    <tr>\n",
       "      <th>08-08</th>\n",
       "      <td>68.0</td>\n",
       "      <td>76.557692</td>\n",
       "      <td>83.0</td>\n",
       "    </tr>\n",
       "  </tbody>\n",
       "</table>\n",
       "</div>"
      ],
      "text/plain": [
       "       Tmin       Tavg  Tmax\n",
       "Date                        \n",
       "08-01  67.0  75.540000  83.0\n",
       "08-02  68.0  75.603774  84.0\n",
       "08-03  70.0  76.611111  85.0\n",
       "08-04  69.0  76.711538  84.0\n",
       "08-05  69.0  76.148148  82.0\n",
       "08-06  67.0  76.250000  83.0\n",
       "08-07  71.0  77.156863  83.0\n",
       "08-08  68.0  76.557692  83.0"
      ]
     },
     "execution_count": 27,
     "metadata": {},
     "output_type": "execute_result"
    }
   ],
   "source": [
    "# Load the previous query results into a Pandas DataFrame and add the `trip_dates` range as the `date` index\n",
    "data_df=pd.DataFrame(normals, columns = ['Tmin', 'Tavg', 'Tmax'])\n",
    "data_df['Date']=list_dates\n",
    "data_df.set_index(['Date'], inplace=True)\n",
    "data_df"
   ]
  },
  {
   "cell_type": "code",
   "execution_count": 28,
   "metadata": {},
   "outputs": [
    {
     "data": {
      "image/png": "[encoded data removed]",
      "text/plain": [
       "<Figure size 864x576 with 1 Axes>"
      ]
     },
     "metadata": {
      "needs_background": "light"
     },
     "output_type": "display_data"
    }
   ],
   "source": [
    "# Plot the daily normals as an area plot with `stacked=False`\n",
    "data_df.plot(kind='area', stacked=False, alpha=0.4,figsize=(12, 8), rot=45, x_compat=True, title='Predicted Temperatures for Historical Temperature - Hawaii')\n",
    "plt.ylabel(\"Temperature\")\n",
    "plt.legend(loc='best')\n",
    "#make the labels\n",
    "plt.xlabel('')\n",
    "plt.ylabel('Temp (F)')\n",
    "plt.savefig('Predicted Temperatures for Historical Temperature - Hawaii')\n",
    "plt.show()"
   ]
  },
  {
   "cell_type": "markdown",
   "metadata": {},
   "source": [
    "## Close Session"
   ]
  },
  {
   "cell_type": "code",
   "execution_count": 29,
   "metadata": {},
   "outputs": [],
   "source": [
    "# Close Session\n",
    "session.close()"
   ]
  },
  {
   "cell_type": "code",
   "execution_count": null,
   "metadata": {},
   "outputs": [],
   "source": []
  }
 ],
 "metadata": {
  "kernelspec": {
   "display_name": "Python 3",
   "language": "python",
   "name": "python3"
  },
  "language_info": {
   "codemirror_mode": {
    "name": "ipython",
    "version": 3
   },
   "file_extension": ".py",
   "mimetype": "text/x-python",
   "name": "python",
   "nbconvert_exporter": "python",
   "pygments_lexer": "ipython3",
   "version": "3.7.6"
  }
 },
 "nbformat": 4,
 "nbformat_minor": 4
}
